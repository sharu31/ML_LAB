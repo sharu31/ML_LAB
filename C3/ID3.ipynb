{
 "cells": [
  {
   "cell_type": "code",
   "execution_count": 4,
   "metadata": {},
   "outputs": [
    {
     "name": "stdout",
     "output_type": "stream",
     "text": [
      "0.0\n"
     ]
    }
   ],
   "source": [
    "import pandas as pd\n",
    "import numpy as np\n",
    "\n",
    "# Load the data\n",
    "df = pd.read_csv('C:/Users/Sharwari Prakash M/Dropbox/My PC (DESKTOP-48H0BCO)/Downloads/dt.csv')\n",
    "df.head()\n",
    "\n",
    "# Define the calculate entropy function\n",
    "def calculate_entropy(df_label):\n",
    "    classes, class_counts = np.unique(df_label, return_counts=True)\n",
    "    entropy_value = np.sum(\n",
    "        [(-class_counts[i] / np.sum(class_counts)) * np.log2(class_counts[i] / np.sum(class_counts)) for i in\n",
    "         range(len(classes))])\n",
    "    return entropy_value\n",
    "\n",
    "# Define the calculate information gain function\n",
    "def calculate_information_gain(dataset, feature, label):\n",
    "    # Calculate the dataset entropy\n",
    "    dataset_entropy = calculate_entropy(dataset[label])\n",
    "    values, feat_counts = np.unique(dataset[feature], return_counts=True)\n",
    "\n",
    "    # Calculate the weighted feature entropy\n",
    "    weighted_feature_entropy = np.sum(\n",
    "        [(feat_counts[i] / np.sum(feat_counts)) * calculate_entropy(\n",
    "            dataset.where(dataset[feature] == values[i]).dropna()[label]) for i in range(len(values))])\n",
    "    feature_info_gain = dataset_entropy - weighted_feature_entropy\n",
    "    return feature_info_gain\n",
    "\n",
    "# Define the create decision tree function\n",
    "def create_decision_tree(dataset, df, features, label, parent):\n",
    "    datum = np.unique(df[label], return_counts=True)\n",
    "    unique_data = np.unique(dataset[label])\n",
    "\n",
    "    if len(unique_data) <= 1:\n",
    "        return unique_data[0]\n",
    "    elif len(dataset) == 0:\n",
    "        return unique_data[np.argmax(datum[1])]\n",
    "\n",
    "    elif len(features) == 0:\n",
    "        return parent\n",
    "\n",
    "    else:\n",
    "        parent = unique_data[np.argmax(datum[1])]\n",
    "\n",
    "        # Call the calculate_information_gain function\n",
    "        item_values = [calculate_information_gain(dataset, feature, label) for feature in features]\n",
    "\n",
    "        optimum_feature_index = np.argmax(item_values)\n",
    "        optimum_feature = features[optimum_feature_index]\n",
    "        decision_tree = {optimum_feature: {}}\n",
    "\n",
    "        features = [i for i in features if i != optimum_feature]\n",
    "\n",
    "        for value in np.unique(dataset[optimum_feature]):\n",
    "            min_data = dataset.where(dataset[optimum_feature] == value).dropna()\n",
    "\n",
    "            # Recursive call to create_decision_tree function\n",
    "            min_tree = create_decision_tree(min_data, df, features, label, parent)\n",
    "\n",
    "            decision_tree[optimum_feature][value] = min_tree\n",
    "\n",
    "        return decision_tree\n",
    "\n",
    "# Define the predict function\n",
    "def predict_diabetes(test_data,decision_tree):\n",
    "    for nodes in decision_tree.keys():\n",
    "        value = test_data[nodes]\n",
    "        decision_tree = decision_tree[nodes][value]\n",
    "\n",
    "\n",
    "        prediction = 0\n",
    "        if type(decision_tree) is dict:\n",
    "            # Recusrsive call to predict_diabetes function\n",
    "            prediction = predict_diabetes(test_data, decision_tree)\n",
    "        else:\n",
    "            prediction = decision_tree\n",
    "            break;\n",
    "\n",
    "    return prediction\n",
    "\n",
    "# Set the features and label\n",
    "features = df.columns[:-1]\n",
    "label = 'diabetes'\n",
    "parent = None\n",
    "\n",
    "# Train the decision tree model\n",
    "decision_tree = create_decision_tree(df, df, features, label, parent)\n",
    "\n",
    "# Predict using the trained model\n",
    "sample_data = {'glucose': 77, 'bloodpressure': 112}\n",
    "test_data = pd.Series(sample_data)\n",
    "\n",
    "prediction = predict_diabetes(test_data, decision_tree)\n",
    "print(prediction)\n"
   ]
  },
  {
   "cell_type": "code",
   "execution_count": 7,
   "metadata": {},
   "outputs": [
    {
     "name": "stdout",
     "output_type": "stream",
     "text": [
      "Accuracy: 0.0%\n"
     ]
    }
   ],
   "source": [
    "# Load the test data (assuming you have a separate CSV file for testing)\n",
    "test_df = pd.read_csv('C:/Users/Sharwari Prakash M/Dropbox/My PC (DESKTOP-48H0BCO)/Downloads/te.csv')\n",
    "\n",
    "\n",
    "\n",
    "\n",
    "# Extract the features and label for the test data\n",
    "test_features = test_df.drop(label, axis=1)\n",
    "test_labels = test_df[label]\n",
    "\n",
    "# Function to predict a single label\n",
    "def predict_label(sample, decision_tree):\n",
    "    if isinstance(decision_tree, dict):\n",
    "        feature = list(decision_tree.keys())[0]\n",
    "        value = sample[feature]\n",
    "        if value in decision_tree[feature]:\n",
    "            sub_tree = decision_tree[feature][value]\n",
    "            return predict_label(sample, sub_tree)\n",
    "        else:\n",
    "            return \"Unknown\"\n",
    "    else:\n",
    "        return decision_tree\n",
    "\n",
    "# Predict labels for the test data using the trained decision tree\n",
    "test_predictions = test_features.apply(lambda x: predict_label(x, decision_tree), axis=1)\n",
    "\n",
    "# Calculate accuracy by comparing predicted labels with actual labels\n",
    "accuracy = (test_predictions == test_labels).mean() * 100\n",
    "print(f\"Accuracy: {accuracy}%\")\n",
    "\n"
   ]
  },
  {
   "cell_type": "code",
   "execution_count": 8,
   "metadata": {},
   "outputs": [
    {
     "name": "stdout",
     "output_type": "stream",
     "text": [
      "   Gender  Age  gender_encoded\n",
      "0    Male   10               1\n",
      "1  Female   45               0\n",
      "2    Male   34               1\n",
      "3  Female   78               0\n",
      "4   Other   90               2\n"
     ]
    }
   ],
   "source": [
    "import pandas as pd\n",
    "from sklearn.preprocessing import LabelEncoder\n",
    "\n",
    "# Load the dataset\n",
    "df = pd.read_csv('C:/Users/Sharwari Prakash M/Dropbox/My PC (DESKTOP-48H0BCO)/Downloads/s.csv')\n",
    "\n",
    "# Create an instance of LabelEncoder\n",
    "label_encoder = LabelEncoder()\n",
    "\n",
    "# Convert the gender column to numerical values\n",
    "df['gender_encoded'] = label_encoder.fit_transform(df['Gender'])\n",
    "\n",
    "# Print the updated dataset\n",
    "print(df)"
   ]
  },
  {
   "cell_type": "code",
   "execution_count": null,
   "metadata": {},
   "outputs": [],
   "source": []
  }
 ],
 "metadata": {
  "kernelspec": {
   "display_name": "Python 3",
   "language": "python",
   "name": "python3"
  },
  "language_info": {
   "codemirror_mode": {
    "name": "ipython",
    "version": 3
   },
   "file_extension": ".py",
   "mimetype": "text/x-python",
   "name": "python",
   "nbconvert_exporter": "python",
   "pygments_lexer": "ipython3",
   "version": "3.8.5"
  }
 },
 "nbformat": 4,
 "nbformat_minor": 4
}
