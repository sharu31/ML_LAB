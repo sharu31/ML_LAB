{
 "cells": [
  {
   "cell_type": "code",
   "execution_count": 1,
   "metadata": {},
   "outputs": [
    {
     "name": "stdout",
     "output_type": "stream",
     "text": [
      "Data: \n",
      "['sky', 'airtemp', 'humidity', 'wind', 'water', 'forcast', 'enjoysport']\n",
      "['sunny', 'warm', 'normal', 'strong', 'warm', 'same', 'yes']\n",
      "['sunny', 'warm', 'high', 'strong', 'warm', 'same', 'yes']\n",
      "['rainy', 'cold', 'high', 'strong', 'warm', 'change', 'no']\n",
      "['sunny', 'warm', 'high', 'strong', 'cool', 'change', 'yes']\n",
      "H: ['sunny', 'warm', 'normal', 'strong', 'warm', 'same']\n",
      "H: ['sunny', 'warm', '?', 'strong', 'warm', 'same']\n",
      "H: ['sunny', 'warm', '?', 'strong', '?', '?']\n",
      "Final Hypothesis: ['sunny', 'warm', '?', 'strong', '?', '?']\n"
     ]
    }
   ],
   "source": [
    "import csv\n",
    "def updateHypothesis(x,h):\n",
    "    if h==[]:\n",
    "        return x\n",
    "    for i in range(0,len(h)):\n",
    "        if x[i].upper()!=h[i].upper():\n",
    "            h[i]=\"?\"\n",
    "    return h\n",
    "if __name__ == \"__main__\":\n",
    "    data=[]\n",
    "    h=[]\n",
    "    with open('C:/Users/Sharwari Prakash M/Dropbox/My PC (DESKTOP-48H0BCO)/Downloads/ce.csv','r') as file:\n",
    "        reader=csv.reader(file)\n",
    "        print(\"Data: \")\n",
    "        for row in reader:\n",
    "            data.append(row)\n",
    "            print(row)\n",
    "    if data:\n",
    "        for x in data:\n",
    "            if x[-1].upper()==\"YES\":\n",
    "                x.pop()\n",
    "                h=updateHypothesis(x,h)\n",
    "                print(\"H:\",h)\n",
    "               \n",
    "    print(\"Final Hypothesis:\",h)"
   ]
  },
  {
   "cell_type": "code",
   "execution_count": null,
   "metadata": {},
   "outputs": [],
   "source": []
  }
 ],
 "metadata": {
  "kernelspec": {
   "display_name": "Python 3",
   "language": "python",
   "name": "python3"
  },
  "language_info": {
   "codemirror_mode": {
    "name": "ipython",
    "version": 3
   },
   "file_extension": ".py",
   "mimetype": "text/x-python",
   "name": "python",
   "nbconvert_exporter": "python",
   "pygments_lexer": "ipython3",
   "version": "3.8.5"
  }
 },
 "nbformat": 4,
 "nbformat_minor": 4
}
