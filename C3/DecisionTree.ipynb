{
 "cells": [
  {
   "cell_type": "code",
   "execution_count": 1,
   "metadata": {},
   "outputs": [
    {
     "name": "stdout",
     "output_type": "stream",
     "text": [
      " \n",
      "aTree Display : \n",
      " {'outlook': {'Overcast': 'Yes'}}\n"
     ]
    }
   ],
   "source": [
    "import pandas as pd\n",
    "import numpy as np\n",
    "dataset= pd.read_csv('C:/Users/Sharwari Prakash M/Dropbox/My PC (DESKTOP-48H0BCO)/Downloads/tennis.csv',names=['outlook','temperature','humidity','wind','class',])\n",
    "\n",
    "def entropy(target_col):\n",
    "  elements,counts = np.unique(target_col,return_counts = True)\n",
    "  entropy   =   np.sum([(-counts[i]/np.sum(counts))*np.log2(counts[i]/np.sum(counts))\n",
    "  for   i   in range(len(elements))])\n",
    "  return entropy\n",
    "def InfoGain(data,split_attribute_name,target_name=\"class\"):\n",
    "  total_entropy = entropy(data[target_name])\n",
    "  vals,counts= np.unique(data[split_attribute_name],return_counts=True)\n",
    "  Weighted_Entropy = np.sum([(counts[i]/np.sum(counts))*entropy(data.where(data[split_attribute_name]==vals[i]).dropna()[target_name])\n",
    "   for i in range(len(vals))])\n",
    "  Information_Gain = total_entropy -Weighted_Entropy\n",
    "  return Information_Gain\n",
    "def ID3(data,originaldata,features,target_attribute_name=\"class\",parent_node_class = None): \n",
    "       if len(np.unique(data[target_attribute_name])) <= 1:\n",
    "         return np.unique(data[target_attribute_name])[0]\n",
    "       elif len(data) ==0:\n",
    "        return np.unique(originaldata[target_attribute_name])\n",
    "        [np.argmax(np.unique(originaldata[target_attribute_name],return_counts=True)[1])]\n",
    "       elif len(features) ==0:\n",
    "        return parent_node_class\n",
    "       else:\n",
    "         parent_node_class = np.unique(data[target_attribute_name])\n",
    "         [np.argmax(np.unique(data[target_attribute_name],return_counts=True)[1])]\n",
    "         item_values = [InfoGain(data,feature,target_attribute_name) \n",
    "        for feature in features] \n",
    "        #Return the information gain values for the features in the dataset\n",
    "         best_feature_index = np.argmax(item_values)\n",
    "         best_feature = features[best_feature_index]\n",
    "         tree = {best_feature:{}}\n",
    "         features = [i for i in features if i != best_feature]\n",
    "         for value in np.unique(data[best_feature]):\n",
    "          value = value\n",
    "          sub_data = data.where(data[best_feature] == value).dropna()\n",
    "          subtree = ID3(sub_data,dataset,features,target_attribute_name,parent_node_class)\n",
    "          tree[best_feature][value] = subtree\n",
    "          return(tree)    \n",
    "tree = ID3(dataset,dataset,dataset.columns[:-1])\n",
    "print(' \\naTree Display : \\n',tree)"
   ]
  },
  {
   "cell_type": "code",
   "execution_count": 2,
   "metadata": {},
   "outputs": [],
   "source": []
  },
  {
   "cell_type": "code",
   "execution_count": 3,
   "metadata": {},
   "outputs": [],
   "source": []
  },
  {
   "cell_type": "code",
   "execution_count": 4,
   "metadata": {},
   "outputs": [],
   "source": []
  },
  {
   "cell_type": "code",
   "execution_count": null,
   "metadata": {},
   "outputs": [],
   "source": []
  },
  {
   "cell_type": "code",
   "execution_count": null,
   "metadata": {},
   "outputs": [],
   "source": []
  }
 ],
 "metadata": {
  "kernelspec": {
   "display_name": "Python 3",
   "language": "python",
   "name": "python3"
  },
  "language_info": {
   "codemirror_mode": {
    "name": "ipython",
    "version": 3
   },
   "file_extension": ".py",
   "mimetype": "text/x-python",
   "name": "python",
   "nbconvert_exporter": "python",
   "pygments_lexer": "ipython3",
   "version": "3.8.5"
  }
 },
 "nbformat": 4,
 "nbformat_minor": 4
}
